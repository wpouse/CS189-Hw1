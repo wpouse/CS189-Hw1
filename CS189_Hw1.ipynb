{
 "cells": [
  {
   "cell_type": "code",
   "execution_count": null,
   "metadata": {
    "collapsed": true
   },
   "outputs": [],
   "source": [
    "%matplotlib inline"
   ]
  },
  {
   "cell_type": "code",
   "execution_count": null,
   "metadata": {
    "collapsed": true
   },
   "outputs": [],
   "source": [
    "from sklearn import svm\n",
    "from sklearn.utils import shuffle\n",
    "import matplotlib.pyplot as plt\n",
    "import numpy as np\n",
    "clf = svm.LinearSVC()"
   ]
  },
  {
   "cell_type": "code",
   "execution_count": 20,
   "metadata": {
    "collapsed": false
   },
   "outputs": [],
   "source": [
    "from scipy import io\n",
    "training = scipy.io.loadmat(\"train.mat\")"
   ]
  },
  {
   "cell_type": "code",
   "execution_count": 18,
   "metadata": {
    "collapsed": false
   },
   "outputs": [
    {
     "name": "stdout",
     "output_type": "stream",
     "text": [
      "[Error 3] The system cannot find the path specified: u'data/digit-dataset/'\n",
      "C:\\Users\\wpous\\OneDrive\\Documents\\CS189\\hw1\\data\\digit-dataset\n"
     ]
    }
   ],
   "source": [
    "cd data/digit-dataset/"
   ]
  },
  {
   "cell_type": "code",
   "execution_count": 87,
   "metadata": {
    "collapsed": false
   },
   "outputs": [],
   "source": [
    "import math\n",
    "\n",
    "#benchmark.m, converted\n",
    "def benchmark(pred_labels, true_labels):\n",
    "    errors = pred_labels != true_labels\n",
    "    err_rate = sum(errors) / float(len(true_labels))\n",
    "    indices = errors.nonzero()\n",
    "    return err_rate, indices"
   ]
  },
  {
   "cell_type": "code",
   "execution_count": 23,
   "metadata": {
    "collapsed": false
   },
   "outputs": [
    {
     "data": {
      "text/plain": [
       "{'__globals__': [],\n",
       " '__header__': 'MATLAB 5.0 MAT-file, Platform: MACI64, Created on: Wed Jan 21 01:23:55 2015',\n",
       " '__version__': '1.0',\n",
       " 'train_images': array([[[0, 0, 0, ..., 0, 0, 0],\n",
       "         [0, 0, 0, ..., 0, 0, 0],\n",
       "         [0, 0, 0, ..., 0, 0, 0],\n",
       "         ..., \n",
       "         [0, 0, 0, ..., 0, 0, 0],\n",
       "         [0, 0, 0, ..., 0, 0, 0],\n",
       "         [0, 0, 0, ..., 0, 0, 0]],\n",
       " \n",
       "        [[0, 0, 0, ..., 0, 0, 0],\n",
       "         [0, 0, 0, ..., 0, 0, 0],\n",
       "         [0, 0, 0, ..., 0, 0, 0],\n",
       "         ..., \n",
       "         [0, 0, 0, ..., 0, 0, 0],\n",
       "         [0, 0, 0, ..., 0, 0, 0],\n",
       "         [0, 0, 0, ..., 0, 0, 0]],\n",
       " \n",
       "        [[0, 0, 0, ..., 0, 0, 0],\n",
       "         [0, 0, 0, ..., 0, 0, 0],\n",
       "         [0, 0, 0, ..., 0, 0, 0],\n",
       "         ..., \n",
       "         [0, 0, 0, ..., 0, 0, 0],\n",
       "         [0, 0, 0, ..., 0, 0, 0],\n",
       "         [0, 0, 0, ..., 0, 0, 0]],\n",
       " \n",
       "        ..., \n",
       "        [[0, 0, 0, ..., 0, 0, 0],\n",
       "         [0, 0, 0, ..., 0, 0, 0],\n",
       "         [0, 0, 0, ..., 0, 0, 0],\n",
       "         ..., \n",
       "         [0, 0, 0, ..., 0, 0, 0],\n",
       "         [0, 0, 0, ..., 0, 0, 0],\n",
       "         [0, 0, 0, ..., 0, 0, 0]],\n",
       " \n",
       "        [[0, 0, 0, ..., 0, 0, 0],\n",
       "         [0, 0, 0, ..., 0, 0, 0],\n",
       "         [0, 0, 0, ..., 0, 0, 0],\n",
       "         ..., \n",
       "         [0, 0, 0, ..., 0, 0, 0],\n",
       "         [0, 0, 0, ..., 0, 0, 0],\n",
       "         [0, 0, 0, ..., 0, 0, 0]],\n",
       " \n",
       "        [[0, 0, 0, ..., 0, 0, 0],\n",
       "         [0, 0, 0, ..., 0, 0, 0],\n",
       "         [0, 0, 0, ..., 0, 0, 0],\n",
       "         ..., \n",
       "         [0, 0, 0, ..., 0, 0, 0],\n",
       "         [0, 0, 0, ..., 0, 0, 0],\n",
       "         [0, 0, 0, ..., 0, 0, 0]]], dtype=uint8),\n",
       " 'train_labels': array([[0],\n",
       "        [0],\n",
       "        [0],\n",
       "        ..., \n",
       "        [9],\n",
       "        [9],\n",
       "        [9]], dtype=uint8)}"
      ]
     },
     "execution_count": 23,
     "metadata": {},
     "output_type": "execute_result"
    }
   ],
   "source": [
    "training"
   ]
  },
  {
   "cell_type": "code",
   "execution_count": 131,
   "metadata": {
    "collapsed": true
   },
   "outputs": [],
   "source": [
    "train_images = training['train_images']\n",
    "train_images = train_images.reshape((28*28,-1)) #reshape so features are flattened to 1d\n",
    "train_images = train_images.transpose() #transpose so sample number is first dimension"
   ]
  },
  {
   "cell_type": "code",
   "execution_count": 25,
   "metadata": {
    "collapsed": true
   },
   "outputs": [],
   "source": [
    "train_labels = training['train_labels']"
   ]
  },
  {
   "cell_type": "code",
   "execution_count": 26,
   "metadata": {
    "collapsed": false
   },
   "outputs": [
    {
     "data": {
      "text/plain": [
       "60000"
      ]
     },
     "execution_count": 26,
     "metadata": {},
     "output_type": "execute_result"
    }
   ],
   "source": [
    "len(train_labels)"
   ]
  },
  {
   "cell_type": "code",
   "execution_count": 31,
   "metadata": {
    "collapsed": false
   },
   "outputs": [
    {
     "data": {
      "text/plain": [
       "60000"
      ]
     },
     "execution_count": 31,
     "metadata": {},
     "output_type": "execute_result"
    }
   ],
   "source": [
    "len(train_images[0][27])"
   ]
  },
  {
   "cell_type": "code",
   "execution_count": 35,
   "metadata": {
    "collapsed": false
   },
   "outputs": [],
   "source": [
    "import numpy as np\n",
    "a = np.array([[1,2],[3,4], [5,6]])"
   ]
  },
  {
   "cell_type": "code",
   "execution_count": 41,
   "metadata": {
    "collapsed": false
   },
   "outputs": [
    {
     "data": {
      "text/plain": [
       "array([[1, 2, 3],\n",
       "       [4, 5, 6]])"
      ]
     },
     "execution_count": 41,
     "metadata": {},
     "output_type": "execute_result"
    }
   ],
   "source": [
    "a = np.array([[1,2],[3,4], [5,6]])\n",
    "a.reshape((2,3), order='C')"
   ]
  },
  {
   "cell_type": "code",
   "execution_count": 38,
   "metadata": {
    "collapsed": false
   },
   "outputs": [
    {
     "data": {
      "text/plain": [
       "array([[1, 2],\n",
       "       [3, 4],\n",
       "       [5, 6]])"
      ]
     },
     "execution_count": 38,
     "metadata": {},
     "output_type": "execute_result"
    }
   ],
   "source": [
    "a"
   ]
  },
  {
   "cell_type": "code",
   "execution_count": 43,
   "metadata": {
    "collapsed": false
   },
   "outputs": [],
   "source": [
    "f =train_images[:][:][0]"
   ]
  },
  {
   "cell_type": "code",
   "execution_count": 64,
   "metadata": {
    "collapsed": false
   },
   "outputs": [],
   "source": [
    "trainedd = train_images[:,:,100]"
   ]
  },
  {
   "cell_type": "code",
   "execution_count": 60,
   "metadata": {
    "collapsed": false
   },
   "outputs": [
    {
     "data": {
      "text/plain": [
       "(28L, 28L, 60000L)"
      ]
     },
     "execution_count": 60,
     "metadata": {},
     "output_type": "execute_result"
    }
   ],
   "source": [
    "train_images.shape"
   ]
  },
  {
   "cell_type": "code",
   "execution_count": 65,
   "metadata": {
    "collapsed": false
   },
   "outputs": [
    {
     "data": {
      "text/plain": [
       "(28L, 28L)"
      ]
     },
     "execution_count": 65,
     "metadata": {},
     "output_type": "execute_result"
    }
   ],
   "source": [
    "trainedd.shape"
   ]
  },
  {
   "cell_type": "code",
   "execution_count": 67,
   "metadata": {
    "collapsed": false
   },
   "outputs": [
    {
     "data": {
      "text/plain": [
       "2"
      ]
     },
     "execution_count": 67,
     "metadata": {},
     "output_type": "execute_result"
    }
   ],
   "source": [
    "import random\n"
   ]
  },
  {
   "cell_type": "code",
   "execution_count": 69,
   "metadata": {
    "collapsed": false
   },
   "outputs": [
    {
     "data": {
      "text/plain": [
       "1"
      ]
     },
     "execution_count": 69,
     "metadata": {},
     "output_type": "execute_result"
    }
   ],
   "source": [
    "random.randint(1,3)"
   ]
  },
  {
   "cell_type": "code",
   "execution_count": 132,
   "metadata": {
    "collapsed": true
   },
   "outputs": [],
   "source": []
  },
  {
   "cell_type": "code",
   "execution_count": 189,
   "metadata": {
    "collapsed": false
   },
   "outputs": [],
   "source": [
    "indices = set() #use set since we want unique indices and testing membership much faster than list\n",
    "i = 0\n",
    "total_indices = 50000\n",
    "training_set_length = 60000 #60000- 10000 used as validation\n",
    "while i < total_indices:\n",
    "    index = random.randint(0,training_set_length-1)\n",
    "    if index not in indices:\n",
    "        indices.add(index)\n",
    "        i += 1\n",
    "validation_indices = set()\n",
    "j = 0\n",
    "validation_number = 10000 #do same thing to randomize validation number indices, so there is roughly even spread across training set (important if training set is ordered)\n",
    "while j < validation_number:\n",
    "    index = random.randint(0,training_set_length-1)\n",
    "    if index not in indices:\n",
    "        validation_indices.add(index)\n",
    "        j += 1"
   ]
  },
  {
   "cell_type": "code",
   "execution_count": 191,
   "metadata": {
    "collapsed": true
   },
   "outputs": [],
   "source": [
    "validation_images = []\n",
    "validation_labels = []\n",
    "for n in validation_indices:\n",
    "    validation_images.append(train_images[n,:])\n",
    "    validation_labels.append(train_labels[n,0])\n",
    "#validation_images = train_images[(60000-10000-1):(60000-1),:]\n",
    "#validation_images = train_images[:,:,(60000-10000-1):(60000-1)] \n",
    "#validation_labels = train_labels[(60000-10000-1):(60000-1),0]\n",
    "\n",
    "#validation_images = validation_images.reshape((28*28,-1)) #reshape so features are flattened to 1d\n",
    "#validation_images = validation_images.transpose() #transpose so sample number is first dimension"
   ]
  },
  {
   "cell_type": "code",
   "execution_count": 192,
   "metadata": {
    "collapsed": false
   },
   "outputs": [],
   "source": [
    "selected_training = []\n",
    "selected_training_labels = []\n",
    "for n in indices:\n",
    "    selected_training.append(train_images[n,:])\n",
    "    #selected_training.append(np.ndarray.flatten(train_images[:,:,n])) #must flatten because scikit svm only takes 1d array of features\n",
    "    selected_training_labels.append(train_labels[n,0])"
   ]
  },
  {
   "cell_type": "code",
   "execution_count": 193,
   "metadata": {
    "collapsed": false
   },
   "outputs": [
    {
     "data": {
      "text/plain": [
       "LinearSVC(C=1.0, class_weight=None, dual=True, fit_intercept=True,\n",
       "     intercept_scaling=1, loss='squared_hinge', max_iter=1000,\n",
       "     multi_class='ovr', penalty='l2', random_state=None, tol=0.0001,\n",
       "     verbose=0)"
      ]
     },
     "execution_count": 193,
     "metadata": {},
     "output_type": "execute_result"
    }
   ],
   "source": [
    "clf.fit(selected_training,selected_training_labels)"
   ]
  },
  {
   "cell_type": "code",
   "execution_count": 194,
   "metadata": {
    "collapsed": false
   },
   "outputs": [],
   "source": [
    "#clf.fit(validation_images, validation_labels)\n",
    "predicted_labels = clf.predict(validation_images)"
   ]
  },
  {
   "cell_type": "code",
   "execution_count": 195,
   "metadata": {
    "collapsed": false
   },
   "outputs": [
    {
     "data": {
      "text/plain": [
       "(0.19243053337591823,\n",
       " (array([   1,    6,    7, ..., 6244, 6250, 6261], dtype=int64),))"
      ]
     },
     "execution_count": 195,
     "metadata": {},
     "output_type": "execute_result"
    }
   ],
   "source": [
    "benchmark(predicted_labels, validation_labels)"
   ]
  },
  {
   "cell_type": "code",
   "execution_count": 98,
   "metadata": {
    "collapsed": false
   },
   "outputs": [],
   "source": [
    "test_shaping = np.reshape(validation_images, (28*28,-1))"
   ]
  },
  {
   "cell_type": "code",
   "execution_count": 104,
   "metadata": {
    "collapsed": false
   },
   "outputs": [
    {
     "data": {
      "text/plain": [
       "(10000L, 784L)"
      ]
     },
     "execution_count": 104,
     "metadata": {},
     "output_type": "execute_result"
    }
   ],
   "source": [
    "test_shaping.shape"
   ]
  },
  {
   "cell_type": "code",
   "execution_count": 103,
   "metadata": {
    "collapsed": false
   },
   "outputs": [],
   "source": [
    "test_shaping =test_shaping.transpose()"
   ]
  },
  {
   "cell_type": "code",
   "execution_count": 157,
   "metadata": {
    "collapsed": false
   },
   "outputs": [
    {
     "data": {
      "text/plain": [
       "2060"
      ]
     },
     "execution_count": 157,
     "metadata": {},
     "output_type": "execute_result"
    }
   ],
   "source": [
    "len(b[0])"
   ]
  },
  {
   "cell_type": "code",
   "execution_count": 166,
   "metadata": {
    "collapsed": false
   },
   "outputs": [
    {
     "data": {
      "text/plain": [
       "0.3754735360969802"
      ]
     },
     "execution_count": 166,
     "metadata": {},
     "output_type": "execute_result"
    }
   ],
   "source": [
    "a"
   ]
  },
  {
   "cell_type": "code",
   "execution_count": 134,
   "metadata": {
    "collapsed": false
   },
   "outputs": [
    {
     "data": {
      "text/plain": [
       "1000"
      ]
     },
     "execution_count": 134,
     "metadata": {},
     "output_type": "execute_result"
    }
   ],
   "source": [
    "len(indices)"
   ]
  },
  {
   "cell_type": "code",
   "execution_count": 141,
   "metadata": {
    "collapsed": false
   },
   "outputs": [
    {
     "data": {
      "text/plain": [
       "{10241,\n",
       " 2,\n",
       " 20485,\n",
       " 36870,\n",
       " 4501,\n",
       " 24585,\n",
       " 2058,\n",
       " 4107,\n",
       " 21783,\n",
       " 22542,\n",
       " 22505,\n",
       " 26644,\n",
       " 27993,\n",
       " 43032,\n",
       " 35844,\n",
       " 10268,\n",
       " 22557,\n",
       " 16414,\n",
       " 34847,\n",
       " 38945,\n",
       " 30754,\n",
       " 16419,\n",
       " 22564,\n",
       " 28709,\n",
       " 23324,\n",
       " 38954,\n",
       " 47148,\n",
       " 43698,\n",
       " 49199,\n",
       " 30773,\n",
       " 20534,\n",
       " 17076,\n",
       " 34874,\n",
       " 45115,\n",
       " 24636,\n",
       " 40970,\n",
       " 10302,\n",
       " 43071,\n",
       " 47168,\n",
       " 21856,\n",
       " 36875,\n",
       " 34884,\n",
       " 45125,\n",
       " 20550,\n",
       " 16458,\n",
       " 24653,\n",
       " 43087,\n",
       " 43088,\n",
       " 22609,\n",
       " 30802,\n",
       " 7865,\n",
       " 39000,\n",
       " 36954,\n",
       " 23053,\n",
       " 6238,\n",
       " 32863,\n",
       " 43104,\n",
       " 18531,\n",
       " 14436,\n",
       " 34917,\n",
       " 30822,\n",
       " 45160,\n",
       " 30825,\n",
       " 16495,\n",
       " 45168,\n",
       " 2162,\n",
       " 26739,\n",
       " 12985,\n",
       " 49280,\n",
       " 22660,\n",
       " 10373,\n",
       " 41094,\n",
       " 47239,\n",
       " 9580,\n",
       " 37003,\n",
       " 43148,\n",
       " 43151,\n",
       " 16528,\n",
       " 6290,\n",
       " 45205,\n",
       " 150,\n",
       " 39065,\n",
       " 2202,\n",
       " 10397,\n",
       " 30879,\n",
       " 39696,\n",
       " 30882,\n",
       " 13167,\n",
       " 169,\n",
       " 10411,\n",
       " 49324,\n",
       " 34989,\n",
       " 10415,\n",
       " 14512,\n",
       " 25288,\n",
       " 37042,\n",
       " 43765,\n",
       " 26654,\n",
       " 36553,\n",
       " 43192,\n",
       " 10426,\n",
       " 35258,\n",
       " 39104,\n",
       " 35009,\n",
       " 6338,\n",
       " 12483,\n",
       " 37061,\n",
       " 43206,\n",
       " 10440,\n",
       " 39113,\n",
       " 37066,\n",
       " 28880,\n",
       " 24786,\n",
       " 47139,\n",
       " 49364,\n",
       " 30933,\n",
       " 43222,\n",
       " 10455,\n",
       " 47323,\n",
       " 20705,\n",
       " 47331,\n",
       " 2086,\n",
       " 47334,\n",
       " 48849,\n",
       " 2282,\n",
       " 25639,\n",
       " 43244,\n",
       " 30957,\n",
       " 33006,\n",
       " 7549,\n",
       " 33008,\n",
       " 30961,\n",
       " 242,\n",
       " 26870,\n",
       " 37111,\n",
       " 6868,\n",
       " 39162,\n",
       " 22911,\n",
       " 8445,\n",
       " 45310,\n",
       " 2773,\n",
       " 10496,\n",
       " 25984,\n",
       " 44131,\n",
       " 32858,\n",
       " 16648,\n",
       " 32812,\n",
       " 39179,\n",
       " 20749,\n",
       " 16655,\n",
       " 37138,\n",
       " 16659,\n",
       " 37994,\n",
       " 20759,\n",
       " 45336,\n",
       " 6428,\n",
       " 39198,\n",
       " 43295,\n",
       " 45344,\n",
       " 47396,\n",
       " 20773,\n",
       " 41254,\n",
       " 26919,\n",
       " 2345,\n",
       " 42375,\n",
       " 37164,\n",
       " 11997,\n",
       " 34304,\n",
       " 49457,\n",
       " 24883,\n",
       " 15070,\n",
       " 41353,\n",
       " 45371,\n",
       " 26940,\n",
       " 49470,\n",
       " 24629,\n",
       " 6467,\n",
       " 24904,\n",
       " 16713,\n",
       " 31056,\n",
       " 45393,\n",
       " 22261,\n",
       " 31064,\n",
       " 23610,\n",
       " 351,\n",
       " 12640,\n",
       " 4694,\n",
       " 10594,\n",
       " 31803,\n",
       " 6505,\n",
       " 27222,\n",
       " 12653,\n",
       " 49521,\n",
       " 371,\n",
       " 26997,\n",
       " 47482,\n",
       " 20403,\n",
       " 18814,\n",
       " 2431,\n",
       " 49216,\n",
       " 6530,\n",
       " 16771,\n",
       " 9622,\n",
       " 43400,\n",
       " 16777,\n",
       " 27019,\n",
       " 14732,\n",
       " 49549,\n",
       " 31118,\n",
       " 41359,\n",
       " 11672,\n",
       " 10643,\n",
       " 12692,\n",
       " 18837,\n",
       " 29078,\n",
       " 24984,\n",
       " 8604,\n",
       " 20893,\n",
       " 20549,\n",
       " 24995,\n",
       " 49572,\n",
       " 6569,\n",
       " 14762,\n",
       " 18845,\n",
       " 39349,\n",
       " 6493,\n",
       " 43447,\n",
       " 2490,\n",
       " 12731,\n",
       " 10314,\n",
       " 6590,\n",
       " 14783,\n",
       " 47552,\n",
       " 14786,\n",
       " 26017,\n",
       " 2505,\n",
       " 6602,\n",
       " 39371,\n",
       " 41420,\n",
       " 43469,\n",
       " 10655,\n",
       " 39377,\n",
       " 39637,\n",
       " 33239,\n",
       " 49321,\n",
       " 39147,\n",
       " 4572,\n",
       " 9978,\n",
       " 23008,\n",
       " 18914,\n",
       " 27109,\n",
       " 12778,\n",
       " 2543,\n",
       " 13724,\n",
       " 12786,\n",
       " 31220,\n",
       " 35317,\n",
       " 8541,\n",
       " 23034,\n",
       " 49659,\n",
       " 39420,\n",
       " 12797,\n",
       " 4607,\n",
       " 4608,\n",
       " 2562,\n",
       " 31238,\n",
       " 6665,\n",
       " 16906,\n",
       " 40023,\n",
       " 37634,\n",
       " 21008,\n",
       " 88,\n",
       " 41685,\n",
       " 45827,\n",
       " 17838,\n",
       " 46267,\n",
       " 4632,\n",
       " 26372,\n",
       " 4637,\n",
       " 39454,\n",
       " 30979,\n",
       " 8746,\n",
       " 12843,\n",
       " 35373,\n",
       " 9293,\n",
       " 47663,\n",
       " 21040,\n",
       " 37425,\n",
       " 6706,\n",
       " 16947,\n",
       " 21045,\n",
       " 567,\n",
       " 23096,\n",
       " 21050,\n",
       " 7263,\n",
       " 41534,\n",
       " 29247,\n",
       " 37440,\n",
       " 12866,\n",
       " 1462,\n",
       " 37449,\n",
       " 45643,\n",
       " 19020,\n",
       " 17506,\n",
       " 5901,\n",
       " 6089,\n",
       " 4195,\n",
       " 39509,\n",
       " 25174,\n",
       " 16484,\n",
       " 14938,\n",
       " 10843,\n",
       " 4538,\n",
       " 37989,\n",
       " 42768,\n",
       " 37477,\n",
       " 33385,\n",
       " 17005,\n",
       " 14959,\n",
       " 19060,\n",
       " 14967,\n",
       " 29119,\n",
       " 6780,\n",
       " 6781,\n",
       " 41600,\n",
       " 19073,\n",
       " 39557,\n",
       " 2694,\n",
       " 23176,\n",
       " 47755,\n",
       " 43660,\n",
       " 12941,\n",
       " 15730,\n",
       " 15000,\n",
       " 25241,\n",
       " 16389,\n",
       " 15007,\n",
       " 17056,\n",
       " 21153,\n",
       " 32539,\n",
       " 9670,\n",
       " 27302,\n",
       " 43687,\n",
       " 21160,\n",
       " 26346,\n",
       " 43691,\n",
       " 8877,\n",
       " 25263,\n",
       " 49842,\n",
       " 39604,\n",
       " 49845,\n",
       " 45753,\n",
       " 8891,\n",
       " 35519,\n",
       " 43713,\n",
       " 35275,\n",
       " 43716,\n",
       " 31862,\n",
       " 43718,\n",
       " 45767,\n",
       " 33480,\n",
       " 49865,\n",
       " 13006,\n",
       " 49871,\n",
       " 13091,\n",
       " 39636,\n",
       " 34254,\n",
       " 17529,\n",
       " 20892,\n",
       " 10973,\n",
       " 19166,\n",
       " 29408,\n",
       " 47842,\n",
       " 4835,\n",
       " 45796,\n",
       " 31461,\n",
       " 8936,\n",
       " 11388,\n",
       " 35563,\n",
       " 10989,\n",
       " 23278,\n",
       " 39664,\n",
       " 12072,\n",
       " 13412,\n",
       " 8948,\n",
       " 13045,\n",
       " 7179,\n",
       " 33529,\n",
       " 31327,\n",
       " 43771,\n",
       " 42102,\n",
       " 23297,\n",
       " 4866,\n",
       " 27395,\n",
       " 49924,\n",
       " 11016,\n",
       " 22053,\n",
       " 39695,\n",
       " 27408,\n",
       " 19217,\n",
       " 41748,\n",
       " 43799,\n",
       " 792,\n",
       " 39705,\n",
       " 23323,\n",
       " 6940,\n",
       " 34266,\n",
       " 35973,\n",
       " 17187,\n",
       " 43814,\n",
       " 18908,\n",
       " 4908,\n",
       " 19245,\n",
       " 49966,\n",
       " 9008,\n",
       " 29489,\n",
       " 41781,\n",
       " 37944,\n",
       " 33594,\n",
       " 17213,\n",
       " 27455,\n",
       " 35648,\n",
       " 19270,\n",
       " 39052,\n",
       " 33612,\n",
       " 17229,\n",
       " 41810,\n",
       " 25427,\n",
       " 46992,\n",
       " 41818,\n",
       " 4955,\n",
       " 860,\n",
       " 6970,\n",
       " 16869,\n",
       " 7008,\n",
       " 43874,\n",
       " 35683,\n",
       " 13157,\n",
       " 31590,\n",
       " 11111,\n",
       " 11113,\n",
       " 25450,\n",
       " 17262,\n",
       " 21309,\n",
       " 7027,\n",
       " 44521,\n",
       " 2936,\n",
       " 4987,\n",
       " 19326,\n",
       " 26773,\n",
       " 33241,\n",
       " 9094,\n",
       " 6498,\n",
       " 35722,\n",
       " 3849,\n",
       " 17293,\n",
       " 5272,\n",
       " 39828,\n",
       " 27541,\n",
       " 9369,\n",
       " 9112,\n",
       " 25499,\n",
       " 19356,\n",
       " 45981,\n",
       " 33696,\n",
       " 7074,\n",
       " 31651,\n",
       " 9124,\n",
       " 40774,\n",
       " 7079,\n",
       " 9130,\n",
       " 5041,\n",
       " 37810,\n",
       " 25673,\n",
       " 43959,\n",
       " 41912,\n",
       " 9238,\n",
       " 8829,\n",
       " 9156,\n",
       " 8694,\n",
       " 48070,\n",
       " 37831,\n",
       " 3016,\n",
       " 8693,\n",
       " 37836,\n",
       " 21453,\n",
       " 13263,\n",
       " 7120,\n",
       " 17361,\n",
       " 31698,\n",
       " 9379,\n",
       " 48085,\n",
       " 46038,\n",
       " 27607,\n",
       " 4670,\n",
       " 15324,\n",
       " 18938,\n",
       " 9182,\n",
       " 7135,\n",
       " 34949,\n",
       " 11233,\n",
       " 994,\n",
       " 17382,\n",
       " 25575,\n",
       " 19433,\n",
       " 29674,\n",
       " 3239,\n",
       " 21489,\n",
       " 11255,\n",
       " 44026,\n",
       " 41982,\n",
       " 27648,\n",
       " 1025,\n",
       " 12923,\n",
       " 48132,\n",
       " 42838,\n",
       " 28844,\n",
       " 19467,\n",
       " 7945,\n",
       " 3087,\n",
       " 2904,\n",
       " 33814,\n",
       " 21532,\n",
       " 42015,\n",
       " 27680,\n",
       " 176,\n",
       " 39970,\n",
       " 39974,\n",
       " 13351,\n",
       " 39976,\n",
       " 35883,\n",
       " 18610,\n",
       " 17456,\n",
       " 17461,\n",
       " 23608,\n",
       " 39993,\n",
       " 35898,\n",
       " 33851,\n",
       " 3132,\n",
       " 1546,\n",
       " 21567,\n",
       " 1091,\n",
       " 46148,\n",
       " 5193,\n",
       " 1098,\n",
       " 9292,\n",
       " 22370,\n",
       " 9295,\n",
       " 3153,\n",
       " 37970,\n",
       " 23635,\n",
       " 9303,\n",
       " 27736,\n",
       " 15453,\n",
       " 11359,\n",
       " 29793,\n",
       " 31842,\n",
       " 21691,\n",
       " 651,\n",
       " 17509,\n",
       " 2015,\n",
       " 1128,\n",
       " 33898,\n",
       " 36371,\n",
       " 31860,\n",
       " 38078,\n",
       " 23670,\n",
       " 21353,\n",
       " 29817,\n",
       " 48252,\n",
       " 22037,\n",
       " 5903,\n",
       " 2240,\n",
       " 29826,\n",
       " 46213,\n",
       " 42118,\n",
       " 44167,\n",
       " 46216,\n",
       " 38423,\n",
       " 46221,\n",
       " 48271,\n",
       " 27800,\n",
       " 42180,\n",
       " 38024,\n",
       " 42139,\n",
       " 24367,\n",
       " 9374,\n",
       " 10746,\n",
       " 15523,\n",
       " 48292,\n",
       " 27814,\n",
       " 33959,\n",
       " 39453,\n",
       " 1200,\n",
       " 18974,\n",
       " 44214,\n",
       " 13270,\n",
       " 1209,\n",
       " 1211,\n",
       " 8394,\n",
       " 15550,\n",
       " 3266,\n",
       " 42187,\n",
       " 33988,\n",
       " 11463,\n",
       " 42185,\n",
       " 9419,\n",
       " 40143,\n",
       " 42193,\n",
       " 27859,\n",
       " 48342,\n",
       " 17625,\n",
       " 31963,\n",
       " 1244,\n",
       " 26149,\n",
       " 21728,\n",
       " 7395,\n",
       " 20432,\n",
       " 3302,\n",
       " 5356,\n",
       " 34031,\n",
       " 40176,\n",
       " 34037,\n",
       " 31990,\n",
       " 42231,\n",
       " 36090,\n",
       " 5371,\n",
       " 31999,\n",
       " 29954,\n",
       " 31275,\n",
       " 46340,\n",
       " 49366,\n",
       " 15622,\n",
       " 29959,\n",
       " 11529,\n",
       " 17674,\n",
       " 25868,\n",
       " 44306,\n",
       " 25876,\n",
       " 14725,\n",
       " 5401,\n",
       " 34076,\n",
       " 38173,\n",
       " 1310,\n",
       " 42271,\n",
       " 32034,\n",
       " 13751,\n",
       " 27943,\n",
       " 11564,\n",
       " 7472,\n",
       " 27953,\n",
       " 32050,\n",
       " 1587,\n",
       " 23860,\n",
       " 38199,\n",
       " 38200,\n",
       " 19769,\n",
       " 34107,\n",
       " 13632,\n",
       " 42306,\n",
       " 5444,\n",
       " 36165,\n",
       " 38214,\n",
       " 34122,\n",
       " 11831,\n",
       " 3404,\n",
       " 1357,\n",
       " 19549,\n",
       " 36176,\n",
       " 19683,\n",
       " 11604,\n",
       " 25941,\n",
       " 23896,\n",
       " 11492,\n",
       " 32090,\n",
       " 16271,\n",
       " 5468,\n",
       " 46429,\n",
       " 43237,\n",
       " 44384,\n",
       " 21857,\n",
       " 40507,\n",
       " 10207,\n",
       " 231,\n",
       " 7532,\n",
       " 15725,\n",
       " 20029,\n",
       " 5488,\n",
       " 1393,\n",
       " 48498,\n",
       " 44404,\n",
       " 38261,\n",
       " 17784,\n",
       " 32121,\n",
       " 28028,\n",
       " 234,\n",
       " 48512,\n",
       " 13888,\n",
       " 15747,\n",
       " 15748,\n",
       " 5509,\n",
       " 21894,\n",
       " 5511,\n",
       " 23788,\n",
       " 30090,\n",
       " 25154,\n",
       " 15664,\n",
       " 26862,\n",
       " 19862,\n",
       " 21912,\n",
       " 23961,\n",
       " 40347,\n",
       " 5532,\n",
       " 21919,\n",
       " 36257,\n",
       " 15778,\n",
       " 26019,\n",
       " 17830,\n",
       " 4337,\n",
       " 1448,\n",
       " 33692,\n",
       " 19883,\n",
       " 17836,\n",
       " 26030,\n",
       " 9653,\n",
       " 38326,\n",
       " 21065,\n",
       " 15800,\n",
       " 46521,\n",
       " 28575,\n",
       " 48573,\n",
       " 7614,\n",
       " 41239,\n",
       " 21408,\n",
       " 15811,\n",
       " 38340,\n",
       " 24006,\n",
       " 13768,\n",
       " 20917,\n",
       " 11722,\n",
       " 25077,\n",
       " 9678,\n",
       " 17877,\n",
       " 30874,\n",
       " 2297,\n",
       " 24484,\n",
       " 1498,\n",
       " 31516,\n",
       " 41893,\n",
       " 19939,\n",
       " 36325,\n",
       " 30185,\n",
       " 5610,\n",
       " 42477,\n",
       " 44527,\n",
       " 42483,\n",
       " 19959,\n",
       " 32253,\n",
       " 44542,\n",
       " 11776,\n",
       " 26880,\n",
       " 5636,\n",
       " 32261,\n",
       " 44552,\n",
       " 8780,\n",
       " 24074,\n",
       " 48652,\n",
       " 17936,\n",
       " 36809,\n",
       " 11795,\n",
       " 32276,\n",
       " 3605,\n",
       " 36374,\n",
       " 18671,\n",
       " 22447,\n",
       " 46084,\n",
       " 13855,\n",
       " 28192,\n",
       " 40198,\n",
       " 27569,\n",
       " 42811,\n",
       " 12464,\n",
       " 15916,\n",
       " 36399,\n",
       " 17971,\n",
       " 48695,\n",
       " 48696,\n",
       " 42554,\n",
       " 26207,\n",
       " 24125,\n",
       " 48704,\n",
       " 42565,\n",
       " 19724,\n",
       " 5708,\n",
       " 14605,\n",
       " 30289,\n",
       " 40530,\n",
       " 36435,\n",
       " 44629,\n",
       " 3671,\n",
       " 48728,\n",
       " 5721,\n",
       " 28250,\n",
       " 15965,\n",
       " 34399,\n",
       " 18017,\n",
       " 32356,\n",
       " 20069,\n",
       " 3686,\n",
       " 15975,\n",
       " 19763,\n",
       " 42603,\n",
       " 14700,\n",
       " 7790,\n",
       " 24179,\n",
       " 36468,\n",
       " 48758,\n",
       " 20091,\n",
       " 26238,\n",
       " 5759,\n",
       " 7966,\n",
       " 9860,\n",
       " 3717,\n",
       " 7814,\n",
       " 28297,\n",
       " 36490,\n",
       " 9867,\n",
       " 20112,\n",
       " 35096,\n",
       " 9876,\n",
       " 11925,\n",
       " 46742,\n",
       " 32407,\n",
       " 16026,\n",
       " 30365,\n",
       " 13982,\n",
       " 24223,\n",
       " 4489,\n",
       " 22178,\n",
       " 30374,\n",
       " 21788,\n",
       " 1706,\n",
       " 11207,\n",
       " 3756,\n",
       " 22191,\n",
       " 22192,\n",
       " 3761,\n",
       " 36678,\n",
       " 31006,\n",
       " 24247,\n",
       " 48824,\n",
       " 34420,\n",
       " 44319,\n",
       " 1729,\n",
       " 14019,\n",
       " 3783,\n",
       " 22217,\n",
       " 13602,\n",
       " 1743,\n",
       " 3793,\n",
       " 1746,\n",
       " 36565,\n",
       " 34520,\n",
       " 18137,\n",
       " 38621,\n",
       " 14049,\n",
       " 28283,\n",
       " 36581,\n",
       " 22495,\n",
       " 29649,\n",
       " 40680,\n",
       " 16106,\n",
       " 10535,\n",
       " 32492,\n",
       " 49789,\n",
       " 44670,\n",
       " 16118,\n",
       " 36601,\n",
       " 34554,\n",
       " 22274,\n",
       " 40707,\n",
       " 36612,\n",
       " 36613,\n",
       " 47745,\n",
       " 44808,\n",
       " 38665,\n",
       " 20235,\n",
       " 18189,\n",
       " 32526,\n",
       " 24335,\n",
       " 40720,\n",
       " 38674,\n",
       " 18198,\n",
       " 18201,\n",
       " 10010,\n",
       " 46875,\n",
       " 28444,\n",
       " 47203,\n",
       " 23173,\n",
       " 42785,\n",
       " 26405,\n",
       " 11654,\n",
       " 48936,\n",
       " 26409,\n",
       " 18220,\n",
       " 5085,\n",
       " 41267,\n",
       " 32567,\n",
       " 14136,\n",
       " 38196,\n",
       " 28475,\n",
       " 26429,\n",
       " 1855,\n",
       " 16192,\n",
       " 22337,\n",
       " 31371,\n",
       " 8006,\n",
       " 48967,\n",
       " 5386,\n",
       " 21132,\n",
       " 11575,\n",
       " 10063,\n",
       " 30546,\n",
       " 5971,\n",
       " 3925,\n",
       " 44886,\n",
       " 5976,\n",
       " 22361,\n",
       " 22364,\n",
       " 5984,\n",
       " 26466,\n",
       " 40571,\n",
       " 1893,\n",
       " 44904,\n",
       " 26477,\n",
       " 18287,\n",
       " 28529,\n",
       " 16243,\n",
       " 28532,\n",
       " 18409,\n",
       " 26491,\n",
       " 46975,\n",
       " 34688,\n",
       " 33771,\n",
       " 6021,\n",
       " 32648,\n",
       " 1929,\n",
       " 38794,\n",
       " 44939,\n",
       " 44943,\n",
       " 10128,\n",
       " 37528,\n",
       " 40850,\n",
       " 45379,\n",
       " 2030,\n",
       " 49049,\n",
       " 7839,\n",
       " 3997,\n",
       " 40862,\n",
       " 3999,\n",
       " 40865,\n",
       " 4003,\n",
       " 42960,\n",
       " 2033,\n",
       " 8106,\n",
       " 44975,\n",
       " 49072,\n",
       " 14259,\n",
       " 47029,\n",
       " 34743,\n",
       " 4767,\n",
       " 21834,\n",
       " 49090,\n",
       " 49092,\n",
       " 24517,\n",
       " 4039,\n",
       " 30664,\n",
       " 34761,\n",
       " 25585,\n",
       " 24528,\n",
       " 4049,\n",
       " 37847,\n",
       " 20441,\n",
       " 28634,\n",
       " 28639,\n",
       " 15060,\n",
       " 4070,\n",
       " 26599,\n",
       " 34793,\n",
       " 6122,\n",
       " 26173,\n",
       " 28654,\n",
       " 8872,\n",
       " 36852,\n",
       " 14325,\n",
       " 28662,\n",
       " 17748,\n",
       " 22523,\n",
       " 8189,\n",
       " 38229}"
      ]
     },
     "execution_count": 141,
     "metadata": {},
     "output_type": "execute_result"
    }
   ],
   "source": [
    "indices"
   ]
  },
  {
   "cell_type": "code",
   "execution_count": null,
   "metadata": {
    "collapsed": true
   },
   "outputs": [],
   "source": [
    "from sklearn.metrics import confusion_matrix"
   ]
  },
  {
   "cell_type": "code",
   "execution_count": null,
   "metadata": {
    "collapsed": true
   },
   "outputs": [],
   "source": [
    "c_matrix = confusion_matrix(validation_labels, predicted_labels)\n",
    "print(c_matrix)\n",
    "plt.figure()\n",
    "plot_confusion_matrix(c_matrix)"
   ]
  },
  {
   "cell_type": "code",
   "execution_count": 1,
   "metadata": {
    "collapsed": true
   },
   "outputs": [],
   "source": [
    "def cross_validation(k_fold,):\n",
    "    return 0"
   ]
  },
  {
   "cell_type": "code",
   "execution_count": 15,
   "metadata": {
    "collapsed": false
   },
   "outputs": [],
   "source": [
    "a, b = [1 ,2 ,3, 4, 5 ,6], [4, 5 ,6, 7,8,9]"
   ]
  },
  {
   "cell_type": "code",
   "execution_count": 16,
   "metadata": {
    "collapsed": false
   },
   "outputs": [],
   "source": [
    "c, d = shuffle(a,b)"
   ]
  },
  {
   "cell_type": "code",
   "execution_count": 17,
   "metadata": {
    "collapsed": false
   },
   "outputs": [
    {
     "data": {
      "text/plain": [
       "([2, 4, 3, 6, 1, 5], [5, 7, 6, 9, 4, 8])"
      ]
     },
     "execution_count": 17,
     "metadata": {},
     "output_type": "execute_result"
    }
   ],
   "source": [
    "c, d"
   ]
  },
  {
   "cell_type": "code",
   "execution_count": 11,
   "metadata": {
    "collapsed": true
   },
   "outputs": [],
   "source": [
    "from sklearn.utils import shuffle"
   ]
  },
  {
   "cell_type": "code",
   "execution_count": null,
   "metadata": {
    "collapsed": true
   },
   "outputs": [],
   "source": []
  }
 ],
 "metadata": {
  "kernelspec": {
   "display_name": "Python 2",
   "language": "python",
   "name": "python2"
  },
  "language_info": {
   "codemirror_mode": {
    "name": "ipython",
    "version": 2
   },
   "file_extension": ".py",
   "mimetype": "text/x-python",
   "name": "python",
   "nbconvert_exporter": "python",
   "pygments_lexer": "ipython2",
   "version": "2.7.11"
  }
 },
 "nbformat": 4,
 "nbformat_minor": 0
}
